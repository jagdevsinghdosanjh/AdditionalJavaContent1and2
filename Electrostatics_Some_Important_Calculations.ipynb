{
  "nbformat": 4,
  "nbformat_minor": 0,
  "metadata": {
    "colab": {
      "provenance": [],
      "include_colab_link": true
    },
    "kernelspec": {
      "name": "python3",
      "display_name": "Python 3"
    },
    "language_info": {
      "name": "python"
    }
  },
  "cells": [
    {
      "cell_type": "markdown",
      "metadata": {
        "id": "view-in-github",
        "colab_type": "text"
      },
      "source": [
        "<a href=\"https://colab.research.google.com/github/jagdevsinghdosanjh/AdditionalJavaContent1and2/blob/main/Electrostatics_Some_Important_Calculations.ipynb\" target=\"_parent\"><img src=\"https://colab.research.google.com/assets/colab-badge.svg\" alt=\"Open In Colab\"/></a>"
      ]
    },
    {
      "cell_type": "markdown",
      "source": [
        "### **Scientific Python for Electrostatics (10+2) 2022-23 Dated 20-04-2022 Jagdev Singh**"
      ],
      "metadata": {
        "id": "CatyXz2hEacD"
      }
    },
    {
      "cell_type": "code",
      "execution_count": 1,
      "metadata": {
        "id": "bOPTVoQZM8Yn"
      },
      "outputs": [],
      "source": [
        "import scipy.constants as cnst"
      ]
    },
    {
      "cell_type": "code",
      "source": [
        "mp=cnst.m_p\n",
        "print(\"Mass of one Proton=\",cnst.m_p,\"Kg\")"
      ],
      "metadata": {
        "colab": {
          "base_uri": "https://localhost:8080/"
        },
        "id": "IW2xTFLqNtUP",
        "outputId": "e63e7c82-19fc-4747-f1f9-21bd64efcbf2"
      },
      "execution_count": null,
      "outputs": [
        {
          "output_type": "stream",
          "name": "stdout",
          "text": [
            "Mass of one Proton= 1.67262192369e-27 Kg\n"
          ]
        }
      ]
    },
    {
      "cell_type": "code",
      "source": [
        "me=cnst.m_e\n",
        "print(\"Mass of one Electron=\",cnst.m_e,\"Kg\")"
      ],
      "metadata": {
        "colab": {
          "base_uri": "https://localhost:8080/"
        },
        "id": "sIZFaptfAIi8",
        "outputId": "989c47e6-35a6-4adc-f46e-20e71df1ebb2"
      },
      "execution_count": null,
      "outputs": [
        {
          "output_type": "stream",
          "name": "stdout",
          "text": [
            "Mass of one Electron= 9.1093837015e-31 Kg\n"
          ]
        }
      ]
    },
    {
      "cell_type": "code",
      "source": [
        "\n",
        "print(\"Mass of Proton as compared to mass of an electron is =\",mp/me,\"times\")\n",
        "\n",
        "print(\"Mass of Electron as compared to mass of an proton is =\",me/mp,\"times\")"
      ],
      "metadata": {
        "colab": {
          "base_uri": "https://localhost:8080/"
        },
        "id": "jPkg_15INx1x",
        "outputId": "6e3891dd-d6f3-488a-f9c6-7949f2e9ed4c"
      },
      "execution_count": null,
      "outputs": [
        {
          "output_type": "stream",
          "name": "stdout",
          "text": [
            "Mass of Proton as compared to mass of an electron is = 1836.1526734400013 times\n",
            "Mass of Electron as compared to mass of an proton is = 0.000544617021484666 times\n"
          ]
        }
      ]
    },
    {
      "cell_type": "code",
      "source": [
        "ugc=cnst.gravitational_constant\n",
        "print(\"Value of Universal Gravitational Constant is=\",ugc,\"Nm^2/Kg^2\")"
      ],
      "metadata": {
        "id": "v5JD1gsLNa7E",
        "colab": {
          "base_uri": "https://localhost:8080/"
        },
        "outputId": "6f3ac107-6969-42fa-9b05-fc6ebd15af7d"
      },
      "execution_count": null,
      "outputs": [
        {
          "output_type": "stream",
          "name": "stdout",
          "text": [
            "Value of Universal Gravitational Constant is= 6.6743e-11 Nm^2/Kg^2\n"
          ]
        }
      ]
    },
    {
      "cell_type": "code",
      "source": [
        "eo=cnst.epsilon_0\n",
        "print(\"Value of Absolute Permitivity of Free Space=\",eo,\"C^2/N^2m^2\")"
      ],
      "metadata": {
        "colab": {
          "base_uri": "https://localhost:8080/"
        },
        "id": "A43Lp8O-K9Rk",
        "outputId": "8ce10a54-d622-4fa0-f446-37f574a08491"
      },
      "execution_count": null,
      "outputs": [
        {
          "output_type": "stream",
          "name": "stdout",
          "text": [
            "Value of Absolute Permitivity of Free Space= 8.8541878128e-12 C^2/N^2m^2\n"
          ]
        }
      ]
    },
    {
      "cell_type": "code",
      "source": [
        "k_in_si=1/(4*(cnst.pi)*eo)\n",
        "print(\"Value of Proportionality Constant in SI=\",k_in_si,\"Nm^2/C2\")"
      ],
      "metadata": {
        "colab": {
          "base_uri": "https://localhost:8080/"
        },
        "id": "jwsJ2dr8Lv3b",
        "outputId": "0cd75826-dd48-4042-ce8c-12cbbc5d59e8"
      },
      "execution_count": null,
      "outputs": [
        {
          "output_type": "stream",
          "name": "stdout",
          "text": [
            "Value of Proportionality Constant in SI= 8987551792.261171 Nm^2/C2\n"
          ]
        }
      ]
    },
    {
      "cell_type": "code",
      "source": [
        "q_p=cnst.elementary_charge\n",
        "q_e=-(q_p)\n",
        "print(\"Charge of single Electron=\",q_e,\"C\\nCharge on single Proton=\",q_p,\"C\")"
      ],
      "metadata": {
        "colab": {
          "base_uri": "https://localhost:8080/"
        },
        "id": "BM_b0cOBNFLY",
        "outputId": "48f8b1f4-5f21-4ab9-969f-334e7747f000"
      },
      "execution_count": null,
      "outputs": [
        {
          "output_type": "stream",
          "name": "stdout",
          "text": [
            "Charge of single Electron= -1.602176634e-19 C\n",
            "Charge on single Proton= 1.602176634e-19 C\n"
          ]
        }
      ]
    },
    {
      "cell_type": "markdown",
      "source": [
        "### **Electrostatic Versus Gravitational Force between a proton and electron**"
      ],
      "metadata": {
        "id": "iFuXyVylQ6Wu"
      }
    },
    {
      "cell_type": "code",
      "source": [
        "F_e=k_in_si*q_e*q_p/1\n",
        "F_g=ugc*me*mp/1\n",
        "ratio_of_F_e_to_F_g=F_e/F_g\n",
        "print(\"Ratio of Electrostatic to Gravitational Force between a proton and electron at 1 m distance=\",ratio_of_F_e_to_F_g)"
      ],
      "metadata": {
        "colab": {
          "base_uri": "https://localhost:8080/"
        },
        "id": "0PIO6_o3PjoM",
        "outputId": "70bbd04f-3b1f-4693-cfb3-7b18dc94b5b9"
      },
      "execution_count": null,
      "outputs": [
        {
          "output_type": "stream",
          "name": "stdout",
          "text": [
            "Ratio of Electrostatic to Gravitational Force between a proton and electron at 1 m distance= -2.2686614391764352e+39\n"
          ]
        }
      ]
    },
    {
      "cell_type": "markdown",
      "source": [
        "### **Electrostatic Versus Gravitational Force between two protons at 1m distance**"
      ],
      "metadata": {
        "id": "oB_u-40GRYs4"
      }
    },
    {
      "cell_type": "code",
      "source": [
        "F_epp=k_in_si*q_p*q_p/1\n",
        "F_gpp=ugc*mp*mp/1\n",
        "ratio_of_F_epp_to_F_gpp=F_epp/F_gpp\n",
        "print(\"Ratio of Electrostatic to Gravitational Force between two protons at 1 m distance=\",ratio_of_F_epp_to_F_gpp)"
      ],
      "metadata": {
        "colab": {
          "base_uri": "https://localhost:8080/"
        },
        "id": "8wC0V_L-RiSu",
        "outputId": "edf9c805-b101-4da9-b635-937a0d53ee8f"
      },
      "execution_count": null,
      "outputs": [
        {
          "output_type": "stream",
          "name": "stdout",
          "text": [
            "Ratio of Electrostatic to Gravitational Force between two protons at 1 m distance= 1.2355516357613858e+36\n"
          ]
        }
      ]
    },
    {
      "cell_type": "markdown",
      "source": [
        "### **Electrostatic Versus Gravitational Force between two electrons at 1m distance**"
      ],
      "metadata": {
        "id": "sEelWUp9SgOx"
      }
    },
    {
      "cell_type": "code",
      "source": [
        "F_eee=k_in_si*q_e*q_e/1\n",
        "F_gee=ugc*me*me/1\n",
        "ratio_of_F_eee_to_F_gee=F_eee/F_gee\n",
        "print(\"Ratio of Electrostatic to Gravitational Force between two electron at 1 m distance=\",ratio_of_F_eee_to_F_gee)"
      ],
      "metadata": {
        "colab": {
          "base_uri": "https://localhost:8080/"
        },
        "id": "Gp4UJYI2SCmb",
        "outputId": "d731e0b1-a098-4285-99a6-4707a1e43de7"
      },
      "execution_count": null,
      "outputs": [
        {
          "output_type": "stream",
          "name": "stdout",
          "text": [
            "Ratio of Electrostatic to Gravitational Force between two electron at 1 m distance= 4.165608766674052e+42\n"
          ]
        }
      ]
    },
    {
      "cell_type": "code",
      "source": [
        "sahilpreet=\"02-11-2004\"\n",
        "print(\"Date of Birth of sahilpreet=\", sahilpreet)"
      ],
      "metadata": {
        "id": "dSi8NjWkSXuZ",
        "colab": {
          "base_uri": "https://localhost:8080/"
        },
        "outputId": "16bee4ed-db32-41c0-ee2f-fac2fdf34699"
      },
      "execution_count": null,
      "outputs": [
        {
          "output_type": "stream",
          "name": "stdout",
          "text": [
            "Date of Birth of sahilpreet= 02-11-2004\n"
          ]
        }
      ]
    },
    {
      "cell_type": "code",
      "source": [
        "from numpy import pi\n",
        "valueofkinsi=1/((cnst.epsilon_0)*4*cnst.pi)\n",
        "print(valueofkinsi)"
      ],
      "metadata": {
        "colab": {
          "base_uri": "https://localhost:8080/"
        },
        "id": "ZnMbwalLRbKs",
        "outputId": "6cd38f7d-bdb2-48f4-958b-cd80e844ceac"
      },
      "execution_count": null,
      "outputs": [
        {
          "output_type": "stream",
          "name": "stdout",
          "text": [
            "8987551792.261171\n"
          ]
        }
      ]
    },
    {
      "cell_type": "code",
      "source": [],
      "metadata": {
        "id": "gMyfK9BKUVKA"
      },
      "execution_count": null,
      "outputs": []
    },
    {
      "cell_type": "markdown",
      "source": [
        "### **How many electrons are present in 1 coulomb of electric charge?**"
      ],
      "metadata": {
        "id": "Wi3MGhK4Uc9s"
      }
    },
    {
      "cell_type": "code",
      "source": [
        "print(\"Total number of electrons present in 1 Coulomb of Electronic Charge=\",-1/q_e)"
      ],
      "metadata": {
        "colab": {
          "base_uri": "https://localhost:8080/"
        },
        "id": "ncY0wVDSUg5u",
        "outputId": "4df10d0e-b749-4f79-bed6-e5df16800ef2"
      },
      "execution_count": null,
      "outputs": [
        {
          "output_type": "stream",
          "name": "stdout",
          "text": [
            "Total number of electrons present in 1 Coulomb of Electronic Charge= 6.241509074460763e+18\n"
          ]
        }
      ]
    },
    {
      "cell_type": "markdown",
      "source": [
        "### **Calculation for magnitude of charge flown in coulombs in a wire for flow of 1 ampere current in 5 minutes?**"
      ],
      "metadata": {
        "id": "_t_lLKfuzTgX"
      }
    },
    {
      "cell_type": "code",
      "source": [
        "t_m=5 # duration_of_current_flow_in_minutes'\n",
        "t_s=t_m*60 # duration_of_current_flow_in_seconds'\n",
        "i_mag=1 # magnitude_of_current_in_amperes'\n",
        "q_mag=i_mag*t_s\n",
        "print(\"Magnitude of Charge flown in\", t_m,\" minutes\", \"for\",i_mag,\" ampere current=\",q_mag,\"C\")"
      ],
      "metadata": {
        "colab": {
          "base_uri": "https://localhost:8080/"
        },
        "id": "47Lr_iZBzk3u",
        "outputId": "bd74d6d1-5573-44db-8736-abff75b16d02"
      },
      "execution_count": null,
      "outputs": [
        {
          "output_type": "stream",
          "name": "stdout",
          "text": [
            "Magnitude of Charge flown in 5  minutes for 1  ampere current= 300 C\n"
          ]
        }
      ]
    },
    {
      "cell_type": "code",
      "source": [
        "print(q_mag, \"coulombs\")"
      ],
      "metadata": {
        "colab": {
          "base_uri": "https://localhost:8080/"
        },
        "id": "UKr7BeJR1E_w",
        "outputId": "543cc6e3-45f4-45d6-c16d-761c072763bf"
      },
      "execution_count": null,
      "outputs": [
        {
          "output_type": "stream",
          "name": "stdout",
          "text": [
            "300 coulombs\n"
          ]
        }
      ]
    },
    {
      "cell_type": "code",
      "source": [],
      "metadata": {
        "id": "-FWJug__2ERA"
      },
      "execution_count": null,
      "outputs": []
    },
    {
      "cell_type": "markdown",
      "source": [
        "### **Calculation for magnitude of charge flown in coulombs in a wire for flow of current in 5 minutes when voltage is equal to 220 V and resistance is equal to 20 ohm?**"
      ],
      "metadata": {
        "id": "F-qku4gA2E3u"
      }
    },
    {
      "cell_type": "markdown",
      "source": [
        "https://colab.research.google.com/drive/1LvsD1nuBsqxUcLg2Ip8kAcs058Lc3pn2?usp=sharing"
      ],
      "metadata": {
        "id": "PYi64-gkQzb9"
      }
    },
    {
      "cell_type": "code",
      "source": [
        "v=220\n",
        "r=20\n",
        "i=v/r\n",
        "t_m=5\n",
        "t_s=t_m*60\n",
        "q_mag=i*t_s\n",
        "print(\"Magnitude of charge flown in time =\",t_m, \"min =\", q_mag,\"C\")"
      ],
      "metadata": {
        "colab": {
          "base_uri": "https://localhost:8080/"
        },
        "id": "mgWyLCG229Jl",
        "outputId": "84ac5a0b-f4cc-411d-bd14-3159113746b3"
      },
      "execution_count": null,
      "outputs": [
        {
          "output_type": "stream",
          "name": "stdout",
          "text": [
            "Magnitude of charge flown in time = 5 min = 3300.0 C\n"
          ]
        }
      ]
    },
    {
      "cell_type": "code",
      "source": [
        "q_mag"
      ],
      "metadata": {
        "id": "bHGgh50BNBAV",
        "colab": {
          "base_uri": "https://localhost:8080/"
        },
        "outputId": "9349b70d-8920-45b8-81bf-629fc5700d20"
      },
      "execution_count": null,
      "outputs": [
        {
          "output_type": "execute_result",
          "data": {
            "text/plain": [
              "3300.0"
            ]
          },
          "metadata": {},
          "execution_count": 18
        }
      ]
    }
  ]
}